{
 "cells": [
  {
   "cell_type": "markdown",
   "metadata": {},
   "source": [
    "## 1 Estruturas de séries e dataframes da biblioteca Pandas\n",
    "\n",
    "Este notebook apresenta uma introdução as estruturas de série e dataframe fornecidas pela biblioteca Pandas. Além de armazenar os dados, essas estruturas também possuem diversas operações aritméticas e estatísticas encapsuladas, o que torna o seu uso bastante simplificado."
   ]
  },
  {
   "cell_type": "markdown",
   "metadata": {},
   "source": [
    "### 1.1 Import"
   ]
  },
  {
   "cell_type": "code",
   "execution_count": null,
   "metadata": {},
   "outputs": [],
   "source": [
    "import pandas as pd"
   ]
  },
  {
   "cell_type": "markdown",
   "metadata": {},
   "source": [
    "### 1.2 Séries"
   ]
  },
  {
   "cell_type": "code",
   "execution_count": null,
   "metadata": {
    "scrolled": true
   },
   "outputs": [],
   "source": [
    "#uma série pode ser criada a partir de uma lista do python\n",
    "minha_serie = pd.Series([10,20,30,40,50])\n",
    "display(minha_serie)"
   ]
  },
  {
   "cell_type": "code",
   "execution_count": null,
   "metadata": {},
   "outputs": [],
   "source": [
    "#alterando a chave do indice\n",
    "minha_serie.index = ['A','B','C','D','E']\n",
    "display(minha_serie)"
   ]
  },
  {
   "cell_type": "markdown",
   "metadata": {},
   "source": [
    "### 1.3 DataFrames"
   ]
  },
  {
   "cell_type": "code",
   "execution_count": null,
   "metadata": {},
   "outputs": [],
   "source": [
    "#criando um dataframe a partir de um dicionario python\n",
    "data = {\"Nome\": [\"João\",\"Maria\", \"José\", \"Pedro\"],\n",
    "       \"Idade\": [19,23,34,37]}\n",
    "\n",
    "meu_data_frame = pd.DataFrame(data)\n",
    "display(meu_data_frame)"
   ]
  },
  {
   "cell_type": "code",
   "execution_count": null,
   "metadata": {
    "scrolled": false
   },
   "outputs": [],
   "source": [
    "#carregando um dataframe a patir de um dataset em .csv\n",
    "\n",
    "meu_data_frame = pd.read_csv(\"../data/cereal.csv\")\n",
    "display(meu_data_frame.head()) #default = 5\n",
    "\n",
    "#display(meu_data_frame.tail())\n",
    "#print(meu_data_frame.describe)"
   ]
  },
  {
   "cell_type": "markdown",
   "metadata": {},
   "source": [
    "#### Dicionário dos atributos do dataset\n",
    "\n",
    "Fonte: https://www.kaggle.com/crawford/80-cereals\n",
    "\n",
    "    Name: Name of cereal\n",
    "    mfr: Manufacturer of cereal\n",
    "        A = American Home Food Products;\n",
    "        G = General Mills\n",
    "        K = Kelloggs\n",
    "        N = Nabisco\n",
    "        P = Post\n",
    "        Q = Quaker Oats\n",
    "        R = Ralston Purina \n",
    "    type:\n",
    "        cold\n",
    "        hot \n",
    "    calories: calories per serving\n",
    "    protein: grams of protein\n",
    "    fat: grams of fat\n",
    "    sodium: milligrams of sodium\n",
    "    fiber: grams of dietary fiber\n",
    "    carbo: grams of complex carbohydrates\n",
    "    sugars: grams of sugars\n",
    "    potass: milligrams of potassium\n",
    "    vitamins: vitamins and minerals - 0, 25, or 100, indicating the typical percentage of FDA recommended\n",
    "    shelf: display shelf (1, 2, or 3, counting from the floor)\n",
    "    weight: weight in ounces of one serving\n",
    "    cups: number of cups in one serving\n",
    "    rating: a rating of the cereals (Possibly from Consumer Reports?)\n"
   ]
  },
  {
   "cell_type": "code",
   "execution_count": null,
   "metadata": {
    "scrolled": true
   },
   "outputs": [],
   "source": [
    "#algumas operações básicas do dataframe\n",
    "\n",
    "#exibe as dimensões do dataframe\n",
    "#exibe os n primeiros\n",
    "#print(meu_data_frame.head()) \n",
    "#exibe os n ultimos\n",
    "#\n",
    "#exibe as colunas\n",
    "#print(meu_data_frame.columns)\n",
    "#resume um dataframe\n",
    "#"
   ]
  },
  {
   "cell_type": "code",
   "execution_count": null,
   "metadata": {},
   "outputs": [],
   "source": [
    "#mostrar os dados de uma coluna especifica\n",
    "display(meu_data_frame[\"calories\"])"
   ]
  },
  {
   "cell_type": "markdown",
   "metadata": {},
   "source": [
    "### 1.4 Análise dos metadados\n"
   ]
  },
  {
   "cell_type": "code",
   "execution_count": null,
   "metadata": {},
   "outputs": [],
   "source": [
    "#computar quantidade de linhas e colunas\n",
    "(qtd_linhas, qtd_colunas) = meu_data_frame.shape\n",
    "\n",
    "print(\"Meu dataframe tem:\", qtd_linhas,\"linhas e\", qtd_colunas, \"colunas\")"
   ]
  },
  {
   "cell_type": "code",
   "execution_count": null,
   "metadata": {},
   "outputs": [],
   "source": [
    "#iterar sobre as amostras (linhas) do dataset\n",
    "for linha, serie in meu_data_frame.iterrows(): \n",
    "    print(\"linha:\", linha)\n",
    "    display(serie) \n",
    "  "
   ]
  },
  {
   "cell_type": "code",
   "execution_count": null,
   "metadata": {
    "scrolled": true
   },
   "outputs": [],
   "source": [
    "#obtendo a lista com os nomes dos atributos (colunas)\n",
    "lista_colunas = list(meu_data_frame.columns.values)\n",
    " \n",
    "print(\"Atributos dos dados:\", lista_colunas)"
   ]
  },
  {
   "cell_type": "markdown",
   "metadata": {},
   "source": [
    "##### Tipos suportados\n",
    "\n",
    "<img src=\"imgs/types_panda.png\" width=70% />"
   ]
  },
  {
   "cell_type": "code",
   "execution_count": null,
   "metadata": {
    "scrolled": true
   },
   "outputs": [],
   "source": [
    "#exibindo os tipos de cada atributo\n",
    "display(meu_data_frame.dtypes)\n",
    "#meu_data_frame[\"type\"].dtype.name"
   ]
  },
  {
   "cell_type": "code",
   "execution_count": null,
   "metadata": {},
   "outputs": [],
   "source": [
    "#criando uma cópia da tabela apenas com os dados do tipo 'object'\n",
    "meus_dados = meu_data_frame.select_dtypes(include=['object']).copy()\n",
    "display(meus_dados.head())"
   ]
  },
  {
   "cell_type": "code",
   "execution_count": null,
   "metadata": {},
   "outputs": [],
   "source": [
    "#realizando a contagem de valores únicos\n",
    "display(meus_dados[\"mfr\"].value_counts())"
   ]
  },
  {
   "cell_type": "code",
   "execution_count": null,
   "metadata": {},
   "outputs": [],
   "source": [
    "meu_data_frame[\"mfr\"] = meu_data_frame[\"mfr\"].astype('category')\n",
    "meu_data_frame[\"type\"] = meu_data_frame[\"type\"].astype('category')\n",
    "\n",
    "display(meu_data_frame.dtypes)"
   ]
  },
  {
   "cell_type": "code",
   "execution_count": null,
   "metadata": {},
   "outputs": [],
   "source": [
    "#chamando o método 'info' é possivel obter mais detalhes sobre o dataframe\n",
    "meu_data_frame.info()"
   ]
  },
  {
   "cell_type": "code",
   "execution_count": null,
   "metadata": {},
   "outputs": [],
   "source": [
    "#como salvar o dataframe processado em um arquivo pickle (.pkl)\n",
    "import os\n",
    "\n",
    "path = \"../data/cereal.pkl\"\n",
    "\n",
    "#caso exista um arquivo, ele é deletado\n",
    "if os.path.exists(path):\n",
    "    os.remove(path)\n",
    "\n",
    "#salvando os dados no arquivo\n",
    "meu_data_frame.to_pickle(path)\n",
    "\n",
    "#lendo os dados do arquico recém salvo\n",
    "novo_dataframe = pd.read_pickle(path)\n",
    "novo_dataframe.info()"
   ]
  },
  {
   "cell_type": "code",
   "execution_count": null,
   "metadata": {},
   "outputs": [],
   "source": []
  }
 ],
 "metadata": {
  "kernelspec": {
   "display_name": "Python 3",
   "language": "python",
   "name": "python3"
  },
  "language_info": {
   "codemirror_mode": {
    "name": "ipython",
    "version": 3
   },
   "file_extension": ".py",
   "mimetype": "text/x-python",
   "name": "python",
   "nbconvert_exporter": "python",
   "pygments_lexer": "ipython3",
   "version": "3.7.6"
  }
 },
 "nbformat": 4,
 "nbformat_minor": 4
}
