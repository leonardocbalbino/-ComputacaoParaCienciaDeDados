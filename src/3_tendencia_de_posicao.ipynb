{
 "cells": [
  {
   "cell_type": "markdown",
   "metadata": {},
   "source": [
    "## 3 Medidas de tendência de posição central\n",
    "As medidas de posição são valores que representam a tendência de concentração dos dados observados. Esse valor pode ser calculado levando em conta todos os valores do conjunto ou apenas uma parte. \n",
    "\n",
    "Em alguns casos, as medidas de posição central também podem ser usadas para completar dados faltantes.\n",
    "\n",
    "As três medidas de tendência de posição central mais utilizadas são: média aritmética, moda e mediana."
   ]
  },
  {
   "cell_type": "markdown",
   "metadata": {},
   "source": [
    "### 3.1 Import"
   ]
  },
  {
   "cell_type": "code",
   "execution_count": null,
   "metadata": {},
   "outputs": [],
   "source": [
    "import pandas as pd\n",
    "from scipy import stats"
   ]
  },
  {
   "cell_type": "markdown",
   "metadata": {},
   "source": [
    "### 3.2 Carregando o dataset"
   ]
  },
  {
   "cell_type": "code",
   "execution_count": null,
   "metadata": {},
   "outputs": [],
   "source": [
    "meu_data_frame = pd.read_csv(\"../data/cereal.csv\")"
   ]
  },
  {
   "cell_type": "markdown",
   "metadata": {},
   "source": [
    "### 3.3 Média aritimética simples\n",
    "\n",
    "A média aritmética simples é a soma dos valores observados dividida pelo número desses\n",
    "valores.\n",
    "\n",
    "<img src=\"imgs/mean.png\" width=30% />"
   ]
  },
  {
   "cell_type": "code",
   "execution_count": null,
   "metadata": {},
   "outputs": [],
   "source": [
    "caloria_media = meu_data_frame[\"calories\"].sum() / len(meu_data_frame[\"calories\"])\n",
    "print(caloria_media)"
   ]
  },
  {
   "cell_type": "code",
   "execution_count": null,
   "metadata": {},
   "outputs": [],
   "source": [
    "#use os métodos nativos\n",
    "caloria_media = meu_data_frame[\"calories\"].mean()\n",
    "print(caloria_media)"
   ]
  },
  {
   "cell_type": "markdown",
   "metadata": {},
   "source": [
    "### 3.4 Mediana\n",
    "\n",
    "Para calculá-la, primeiramente temos de reorganizar os dados em ordem crescente (ou decrescente) e, em seguida, escolher o valor central. Se o número de dados for ímpar, então este valor central é único; se for\n",
    "par, fazemos a média dos dois valores centrais."
   ]
  },
  {
   "cell_type": "code",
   "execution_count": null,
   "metadata": {},
   "outputs": [],
   "source": [
    "caloria_mediana = meu_data_frame[\"calories\"].median()\n",
    "print(caloria_mediana)"
   ]
  },
  {
   "cell_type": "markdown",
   "metadata": {},
   "source": [
    "### 3.5 Moda\n",
    "\n",
    "A moda é o valor que ocorre com maior frequência em um dado conjunto de dados. Se\n",
    "todos os valores aparecem um número igual de vezes (em geral, uma vez cada), dizemos\n",
    "que o conunto de dados não têm moda."
   ]
  },
  {
   "cell_type": "code",
   "execution_count": null,
   "metadata": {},
   "outputs": [],
   "source": [
    "caloria_moda = meu_data_frame[\"calories\"].mode()\n",
    "print(caloria_moda)"
   ]
  },
  {
   "cell_type": "markdown",
   "metadata": {},
   "source": [
    "### 3.6 Media geométrica\n",
    "\n",
    "As médias geométricas são bastante empregadas para observações positivas referentes a\n",
    "crescimentos exponenciais (como taxas de avanço de doenças, números de habitantes de\n",
    "regiões em colonização, crescimento de produtividade, e etc . . . ) [Stevenson and De Farias 1981].\n",
    "A média geometrica (G) é a raiz n-ésima do produto dos n valores de um conjunto de dados\n",
    "(x1;x2; : : : ;xn), conforme definido na seguinte equação:\n",
    "\n",
    "<img src=\"imgs/gmean.png\" width=30% />"
   ]
  },
  {
   "cell_type": "code",
   "execution_count": null,
   "metadata": {},
   "outputs": [],
   "source": [
    "caloria_media_geometrica =  stats.gmean(meu_data_frame[\"calories\"], axis=0)\n",
    "print(caloria_media_geometrica)"
   ]
  },
  {
   "cell_type": "markdown",
   "metadata": {},
   "source": [
    "### 3.7 Média harmónica\n",
    "\n",
    "Para fenômenos que dependem fortemente do menor dos dados, em geral, utiliza-se médias\n",
    "harmônicas calculadas como o inverso da média dos inversos de um conjunto de\n",
    "dados (x1;x2; : : : ;xn), definida conforme a equação:\n",
    "\n",
    "<img src=\"imgs/hmean.png\" width=30% />"
   ]
  },
  {
   "cell_type": "code",
   "execution_count": null,
   "metadata": {},
   "outputs": [],
   "source": [
    "caloria_media_geometrica =  stats.hmean(meu_data_frame[\"calories\"], axis=0)\n",
    "print(caloria_media_geometrica)"
   ]
  }
 ],
 "metadata": {
  "kernelspec": {
   "display_name": "Python 3",
   "language": "python",
   "name": "python3"
  },
  "language_info": {
   "codemirror_mode": {
    "name": "ipython",
    "version": 3
   },
   "file_extension": ".py",
   "mimetype": "text/x-python",
   "name": "python",
   "nbconvert_exporter": "python",
   "pygments_lexer": "ipython3",
   "version": "3.7.6"
  }
 },
 "nbformat": 4,
 "nbformat_minor": 4
}
