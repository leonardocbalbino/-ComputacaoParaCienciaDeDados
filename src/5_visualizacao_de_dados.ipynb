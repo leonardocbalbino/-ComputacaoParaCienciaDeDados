{
 "cells": [
  {
   "cell_type": "markdown",
   "metadata": {},
   "source": [
    "## 5. Visualização de dados\n",
    "\n",
    "\n",
    "A apresentação dos dados estatísticos através de tabelas ou medidas de centralidade e\n",
    "variabiliadade nem sempre proporciona um entendimento adequado dos dados. Assim,\n",
    "com a finalidade de melhorar esse processo, muitos recorrem ao uso dos gráficos. Para\n",
    "isso, é necessário saber o que se pretende mostrar, como elaborar o gráfico e qual o tipo de\n",
    "gráfico mais apropriado para cada tema abordado."
   ]
  },
  {
   "cell_type": "markdown",
   "metadata": {},
   "source": [
    "### 5.1 Import"
   ]
  },
  {
   "cell_type": "code",
   "execution_count": null,
   "metadata": {},
   "outputs": [],
   "source": [
    "import pandas as pd\n",
    "import seaborn as sns\n",
    "import time\n",
    "import libs.utils as utl"
   ]
  },
  {
   "cell_type": "markdown",
   "metadata": {},
   "source": [
    "### 5.2 Carregando o dataset"
   ]
  },
  {
   "cell_type": "code",
   "execution_count": null,
   "metadata": {},
   "outputs": [],
   "source": [
    "#carrengo o dataset\n",
    "meu_data_frame = pd.read_csv(\"../data/cereal.csv\")\n",
    "\n",
    "#criando versoes normalizada e padronizada do dataset\n",
    "meu_data_frame_norm = utl.normalize_dataset(meu_data_frame)\n",
    "meu_data_frame_stda = utl.standarlize_dataset(meu_data_frame)\n",
    "\n",
    "print(\"bruto\")\n",
    "display(meu_data_frame.head())\n",
    "\n",
    "print(\"normalizado\")\n",
    "display(meu_data_frame_norm.head())\n",
    "\n",
    "print(\"padronizado\")\n",
    "display(meu_data_frame_stda.head())"
   ]
  },
  {
   "cell_type": "markdown",
   "metadata": {},
   "source": [
    "### 5.3 Gráficos de barra\n",
    "\n",
    "No gráfico de barras, cada categoria é representada por uma barra de comprimento proporcional à sua frequência, conforme identificação no eixo horizontal."
   ]
  },
  {
   "cell_type": "code",
   "execution_count": null,
   "metadata": {
    "scrolled": false
   },
   "outputs": [],
   "source": [
    "#histograma\n",
    "print(\"bruto\")\n",
    "sns.displot(meu_data_frame, x=\"calories\")\n",
    "\n",
    "print(\"normalizado\")\n",
    "sns.displot(meu_data_frame_norm, x=\"calories_norm\")\n",
    "\n",
    "print(\"padronizado\")\n",
    "sns.displot(meu_data_frame_stda, x=\"calories_stda\")"
   ]
  },
  {
   "cell_type": "code",
   "execution_count": null,
   "metadata": {},
   "outputs": [],
   "source": [
    "#frequencia de um atributo em barras de cores diferentes\n",
    "print(\"bruto\")\n",
    "sns.catplot(data=meu_data_frame, kind=\"count\", x='type')"
   ]
  },
  {
   "cell_type": "code",
   "execution_count": null,
   "metadata": {
    "scrolled": false
   },
   "outputs": [],
   "source": [
    "#exibindo a frquencia de calorias agrupando pelo tipo\n",
    "\n",
    "print(\"bruto\")\n",
    "sns.catplot(data=meu_data_frame, hue=\"type\", kind=\"count\", x='calories', aspect=2)\n",
    "\n",
    "print(\"normalizado\")\n",
    "sns.catplot(data=meu_data_frame_norm, hue=\"type\", kind=\"count\", x='calories_norm', aspect=2).set_xticklabels(rotation=90)\n",
    "\n",
    "print(\"padronizado\")\n",
    "sns.catplot(data=meu_data_frame_stda, hue=\"type\", kind=\"count\", x='calories_stda', aspect=2).set_xticklabels(rotation=90)"
   ]
  },
  {
   "cell_type": "code",
   "execution_count": null,
   "metadata": {
    "scrolled": false
   },
   "outputs": [],
   "source": [
    "#agora agrupando pelo rating\n",
    "\n",
    "sns.catplot(data=meu_data_frame, hue=\"rating\", kind=\"count\", x='calories', aspect=2, palette=\"cool\")\n",
    "#matplot color pallete https://matplotlib.org/3.1.0/tutorials/colors/colormaps.html"
   ]
  },
  {
   "cell_type": "markdown",
   "metadata": {},
   "source": [
    "### 5.4 Gráficos de linha"
   ]
  },
  {
   "cell_type": "code",
   "execution_count": null,
   "metadata": {
    "scrolled": true
   },
   "outputs": [],
   "source": [
    "print(\"bruto\")\n",
    "sns.relplot(data=meu_data_frame['rating'], kind=\"line\",  palette=\"cool\", aspect=2)\n",
    "\n",
    "print(\"normalizado\")\n",
    "sns.relplot(data=meu_data_frame_norm['rating_norm'], kind=\"line\",  palette=\"cool\", aspect=2)\n",
    "\n",
    "print(\"padronizado\")\n",
    "sns.relplot(data=meu_data_frame_stda['rating_stda'], kind=\"line\",  palette=\"cool\", aspect=2)"
   ]
  },
  {
   "cell_type": "code",
   "execution_count": null,
   "metadata": {
    "scrolled": false
   },
   "outputs": [],
   "source": [
    "#exibindo o gráfico de linha usando dois atributos do domínio\n",
    "\n",
    "print(\"bruto\")\n",
    "sns.relplot(data=meu_data_frame, x='calories', estimator=None, kind=\"line\", y=\"sugars\", palette=\"cool\")"
   ]
  },
  {
   "cell_type": "code",
   "execution_count": null,
   "metadata": {
    "scrolled": true
   },
   "outputs": [],
   "source": [
    "#usando o interpolador\n",
    "\n",
    "print(\"bruto\")\n",
    "sns.relplot(data=meu_data_frame, x='calories', kind=\"line\", y=\"sugars\", palette=\"cool\")"
   ]
  },
  {
   "cell_type": "markdown",
   "metadata": {},
   "source": [
    "### 5.5 Gráficos de disperssão\n",
    "\n",
    "Gráficos de Dispersão são utilizados para pontuar dados em um eixo vertical e horizontal com a intenção de exibir quanto uma variável é afetada por outra."
   ]
  },
  {
   "cell_type": "code",
   "execution_count": null,
   "metadata": {
    "scrolled": true
   },
   "outputs": [],
   "source": [
    "print(\"bruto\")\n",
    "sns.catplot(data=meu_data_frame, aspect=2) #kind=\"swarm\"\n",
    "\n",
    "print(\"normalizado\")\n",
    "sns.catplot(data=meu_data_frame_norm, aspect=2).set_xticklabels(rotation=90)\n",
    "\n",
    "print(\"padronizado\")\n",
    "sns.catplot(data=meu_data_frame_stda, aspect=2).set_xticklabels(rotation=90)"
   ]
  },
  {
   "cell_type": "code",
   "execution_count": null,
   "metadata": {
    "scrolled": true
   },
   "outputs": [],
   "source": [
    "#gráfico de dispersão com dois atributos \"calories\" e \"sugars\" onde cada amostra esta marcada pelo atributo \"rating\"\n",
    "\n",
    "print(\"bruto\")\n",
    "sns.relplot(data=meu_data_frame, x='calories', y=\"sugars\", hue=\"rating\", palette=\"cool\")\n",
    "\n",
    "\n",
    "print(\"normalizado\")\n",
    "sns.relplot(data=meu_data_frame_norm, x='calories_norm', y=\"sugars_norm\", hue=\"rating_norm\", palette=\"cool\")\n",
    "\n",
    "\n",
    "print(\"padronizado\")\n",
    "sns.relplot(data=meu_data_frame_stda, x='calories_stda', y=\"sugars_stda\", hue=\"rating_stda\", palette=\"cool\")\n"
   ]
  },
  {
   "cell_type": "markdown",
   "metadata": {},
   "source": [
    "### 5.6 Diagramas de caixa\n",
    "\n",
    "Um boxplot (diagrama de caixa) é um gráfico apresentado em formato de caixa, em que a aresta inferior da caixa representa o primeiro quartil (Q1), a aresta superior representa o terceiro quartil (Q3) e um traço interno à caixa representa a mediana (Q2) de uma amostra.\n",
    "\n",
    "* Limite Inferior = Primeiro Quartil – 1,5 * (Terceiro Quartil – Primeiro Quartil)\n",
    "* Limite Superior = Terceiro Quartil + 1,5 * (Terceiro Quartil – Primeiro Quartil)\n",
    "\n",
    "<img src=\"imgs/box.png\" width=40% />"
   ]
  },
  {
   "cell_type": "code",
   "execution_count": null,
   "metadata": {
    "scrolled": true
   },
   "outputs": [],
   "source": [
    "print(\"bruto\")\n",
    "sns.boxplot(data=meu_data_frame, orient=\"h\", order=['protein', 'sugars','fat','calories'])\n",
    "\n",
    "#print(\"normalizado\")\n",
    "#sns.boxplot(data=meu_data_frame_norm, orient=\"h\", order=['protein_norm', 'sugars_norm','fat_norm','calories_norm'])\n",
    "\n",
    "#print(\"padronizado\")\n",
    "#sns.boxplot(data=meu_data_frame_stda, orient=\"h\", order=['protein_stda', 'sugars_stda','fat_stda','calories_stda'])"
   ]
  },
  {
   "cell_type": "markdown",
   "metadata": {},
   "source": [
    "### 5.7 Tabela de correlação\n",
    "\n",
    "Como visto na atividade 2, a correlação representa, sob o ponto de vista da estatística, uma medida de associação\n",
    "entre duas ou mais variáveis. "
   ]
  },
  {
   "cell_type": "code",
   "execution_count": null,
   "metadata": {
    "scrolled": true
   },
   "outputs": [],
   "source": [
    "#calculando a tabela de correlação\n",
    "corr = meu_data_frame.corr()\n",
    "\n",
    "sns.heatmap(corr)"
   ]
  },
  {
   "cell_type": "code",
   "execution_count": null,
   "metadata": {},
   "outputs": [],
   "source": []
  }
 ],
 "metadata": {
  "kernelspec": {
   "display_name": "Python 3",
   "language": "python",
   "name": "python3"
  },
  "language_info": {
   "codemirror_mode": {
    "name": "ipython",
    "version": 3
   },
   "file_extension": ".py",
   "mimetype": "text/x-python",
   "name": "python",
   "nbconvert_exporter": "python",
   "pygments_lexer": "ipython3",
   "version": "3.7.6"
  }
 },
 "nbformat": 4,
 "nbformat_minor": 4
}
