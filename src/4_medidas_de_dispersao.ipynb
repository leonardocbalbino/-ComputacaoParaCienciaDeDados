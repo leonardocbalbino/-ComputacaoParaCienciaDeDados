{
 "cells": [
  {
   "cell_type": "markdown",
   "metadata": {},
   "source": [
    "## 4. Medidas de dispersão ou variabilidade\n",
    "\n",
    "As medidas de dispersão ou variabilidade indicam se os valores de conjunto de dados\n",
    "estão relativamente próximos uns dos outros, ou separados. As medidas de dispersão oferecem as condições necessárias para analisar até que ponto os valores de um conjunto de dados oscilam para mais ou para menos em relação a\n",
    "uma medida de posição fixada, em geral a média."
   ]
  },
  {
   "cell_type": "markdown",
   "metadata": {},
   "source": [
    "### 4.1 Import"
   ]
  },
  {
   "cell_type": "code",
   "execution_count": null,
   "metadata": {},
   "outputs": [],
   "source": [
    "import pandas as pd\n",
    "from scipy import stats"
   ]
  },
  {
   "cell_type": "markdown",
   "metadata": {},
   "source": [
    "### 4.2 Carregando o dataset"
   ]
  },
  {
   "cell_type": "code",
   "execution_count": null,
   "metadata": {},
   "outputs": [],
   "source": [
    "meu_data_frame = pd.read_csv(\"../data/cereal.csv\")"
   ]
  },
  {
   "cell_type": "markdown",
   "metadata": {},
   "source": [
    "### 4.3 Amplitude\n",
    "\n",
    "Amplitude ou intervalo total (It ) de um conjunto de dados (x1;x2; : : : ;xn) é a diferença\n",
    "entre o maior valor e o menor valor, conforme definido pela equação:\n",
    "\n",
    "<img src=\"imgs/ampli.png\" width=50% />"
   ]
  },
  {
   "cell_type": "code",
   "execution_count": null,
   "metadata": {},
   "outputs": [],
   "source": [
    "caloria_amplitude = meu_data_frame[\"calories\"].max() - meu_data_frame[\"calories\"].min()\n",
    "print(caloria_amplitude)"
   ]
  },
  {
   "cell_type": "markdown",
   "metadata": {},
   "source": [
    "### 4.4 Variância\n",
    "\n",
    "A variância de uma amostra de valores (dados não agrupados), x1;x2; : : : ;xn, é definida\n",
    "como sendo a média dos quadrados dos desvios das medidas em relação à sua média x. A\n",
    "variância da amostrada é dada pela equação:\n",
    "\n",
    "<img src=\"imgs/var.png\" width=20% />"
   ]
  },
  {
   "cell_type": "code",
   "execution_count": null,
   "metadata": {},
   "outputs": [],
   "source": [
    "caloria_variancia = meu_data_frame[\"calories\"].var()\n",
    "print(caloria_variancia)"
   ]
  },
  {
   "cell_type": "markdown",
   "metadata": {},
   "source": [
    "### 4.5 Desvio padrão\n",
    "\n",
    "O desvio padrão é definido como a raiz quadrada da média aritmética dos quadrados dos\n",
    "desvios em relação à média. É a mais importante medida de variabilidade. O desvio\n",
    "padrão é dado pela equação:\n",
    "\n",
    "<img src=\"imgs/std.png\" width=20% />"
   ]
  },
  {
   "cell_type": "code",
   "execution_count": null,
   "metadata": {},
   "outputs": [],
   "source": [
    "caloria_desvio_padrao = meu_data_frame[\"calories\"].std()\n",
    "print(caloria_desvio_padrao)"
   ]
  },
  {
   "cell_type": "markdown",
   "metadata": {},
   "source": [
    "### 4.6 Resumir"
   ]
  },
  {
   "cell_type": "code",
   "execution_count": null,
   "metadata": {},
   "outputs": [],
   "source": [
    "meu_data_frame[\"calories\"].describe()"
   ]
  },
  {
   "cell_type": "code",
   "execution_count": null,
   "metadata": {},
   "outputs": [],
   "source": []
  }
 ],
 "metadata": {
  "kernelspec": {
   "display_name": "Python 3",
   "language": "python",
   "name": "python3"
  },
  "language_info": {
   "codemirror_mode": {
    "name": "ipython",
    "version": 3
   },
   "file_extension": ".py",
   "mimetype": "text/x-python",
   "name": "python",
   "nbconvert_exporter": "python",
   "pygments_lexer": "ipython3",
   "version": "3.7.6"
  }
 },
 "nbformat": 4,
 "nbformat_minor": 4
}
